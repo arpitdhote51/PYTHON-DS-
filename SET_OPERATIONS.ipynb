{
  "nbformat": 4,
  "nbformat_minor": 0,
  "metadata": {
    "colab": {
      "provenance": [],
      "authorship_tag": "ABX9TyPjIu5NuOE63HpK7gjJ02fV"
    },
    "kernelspec": {
      "name": "python3",
      "display_name": "Python 3"
    },
    "language_info": {
      "name": "python"
    }
  },
  "cells": [
    {
      "cell_type": "code",
      "execution_count": null,
      "metadata": {
        "colab": {
          "base_uri": "https://localhost:8080/"
        },
        "id": "Yo5_QafOw31J",
        "outputId": "9fcd8913-287e-42ac-9ab8-2badd73431e7"
      },
      "outputs": [
        {
          "output_type": "stream",
          "name": "stdout",
          "text": [
            "Identical items: {identical_items}\n",
            "Unique items: {unique_items}\n",
            "Set1 after removing identical items: {set1}\n"
          ]
        }
      ],
      "source": [
        "\n",
        "set1 = {\"Sunday\", \"Monday\", \"Tuesday\", \"Friday\"}\n",
        "set2 = {\"Monday\", \"Friday\", \"Thursday\", \"Saturday\"}\n",
        "\n",
        "identical_items = set1.intersection(set2)\n",
        "print(\"Identical items: {identical_items}\")\n",
        "\n",
        "unique_items =set1.union(set2)\n",
        "print(\"Unique items: {unique_items}\")\n",
        "\n",
        "set1.difference_update(set2)\n",
        "print(\"Set1 after removing identical items: {set1}\")\n"
      ]
    },
    {
      "cell_type": "code",
      "source": [
        "\n",
        "sample_set1 = {\"Sunday\", \"Monday\", \"Tuesday\", \"Friday\"}\n",
        "sample_set2 = {\"Monday\", \"Friday\", \"Thursday\", \"Saturday\"}\n",
        "\n",
        "identical_items = sample_set1.intersection(sample_set2)\n",
        "print(\"Identical items:\", identical_items)\n",
        "\n",
        "unique_items = sample_set1.union(sample_set2)\n",
        "print(\"Unique items:\", unique_items)\n",
        "\n",
        "sample_set1.intersection_update(sample_set2)\n",
        "print(\"Set1 after removing items that are not common to both sets:\", sample_set1)\n"
      ],
      "metadata": {
        "id": "iOZ9SsUDyoTl"
      },
      "execution_count": null,
      "outputs": []
    },
    {
      "cell_type": "markdown",
      "source": [],
      "metadata": {
        "id": "uTfY0oSx1FmL"
      }
    },
    {
      "cell_type": "code",
      "source": [
        "\n",
        "-sample_set1 = {\"Sunday\", \"Monday\", \"Tuesday\", \"Friday\"}\n",
        "sample_set2 = {\"Monday\", \"Friday\", \"Thursday\", \"Saturday\"}\n",
        "\n",
        "# Return a new set of identical items from two sets\n",
        "identical_items = sample_set1.intersection(sample_set2)\n",
        "print(\"Identical items:\", identical_items)\n",
        "\n",
        "# Get Only unique items from two sets\n",
        "unique_items = sample_set1.symmetric_difference(sample_set2)\n",
        "print(\"Unique items:\", unique_items)\n",
        "\n",
        "# Remove \"yellow\" from the sample_set1\n",
        "if \"yellow\" in sample_set1:\n",
        "    sample_set1.remove(\"yellow\")\n",
        "print(\"sample_set1 after removing 'yellow':\", sample_set1)\n",
        "\n",
        "# Remove items from set1 that are not common to both set1 and set2\n",
        "sample_set1.intersection_update(sample_set2)\n",
        "print(\"sample_set1 after removing uncommon items:\", sample_set1)\n",
        "\n",
        "# Create a dictionary from sample_set1 & sample_set2\n",
        "sample_dict = dict.fromkeys(sample_set1, sample_set2)\n",
        "print(\"Dictionary created from sets:\", sample_dict)"
      ],
      "metadata": {
        "colab": {
          "base_uri": "https://localhost:8080/"
        },
        "id": "LbeXdZuO1Pki",
        "outputId": "d222bee8-2c27-488a-c002-eccf80337426"
      },
      "execution_count": null,
      "outputs": [
        {
          "output_type": "stream",
          "name": "stdout",
          "text": [
            "Identical items: {'Monday', 'Friday'}\n",
            "Unique items: {'Sunday', 'Thursday', 'Saturday', 'Tuesday'}\n",
            "sample_set1 after removing 'yellow': {'Monday', 'Tuesday', 'Friday', 'Sunday'}\n",
            "sample_set1 after removing uncommon items: {'Monday', 'Friday'}\n",
            "Dictionary created from sets: {'Monday': {'Monday', 'Friday', 'Saturday', 'Thursday'}, 'Friday': {'Monday', 'Friday', 'Saturday', 'Thursday'}}\n"
          ]
        }
      ]
    }
  ]
}